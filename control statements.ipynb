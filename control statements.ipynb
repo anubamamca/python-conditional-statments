{
 "cells": [
  {
   "cell_type": "markdown",
   "id": "f781f784",
   "metadata": {},
   "source": []
  },
  {
   "cell_type": "markdown",
   "id": "36a3408e",
   "metadata": {},
   "source": [
    "TO check whether the given program is a multiple of 8 or not."
   ]
  },
  {
   "cell_type": "code",
   "execution_count": 4,
   "id": "654f51af",
   "metadata": {},
   "outputs": [
    {
     "name": "stdout",
     "output_type": "stream",
     "text": [
      "38 is not divisible by 8\n"
     ]
    }
   ],
   "source": [
    "num = 38\n",
    "if num%8 ==0:\n",
    "    print(f\"{num} divisible by 8\")\n",
    "else:\n",
    "    print(f\"{num} is not divisible by 8\")"
   ]
  },
  {
   "cell_type": "markdown",
   "id": "83a83122",
   "metadata": {},
   "source": [
    "Number Divisible by 8 or 4."
   ]
  },
  {
   "cell_type": "code",
   "execution_count": 6,
   "id": "3b3fbae8",
   "metadata": {},
   "outputs": [
    {
     "name": "stdout",
     "output_type": "stream",
     "text": [
      "12 divisible by 4 but not by 8\n"
     ]
    }
   ],
   "source": [
    "num = 12\n",
    "if num%8 == 0:\n",
    "    print(f\"{num} divisible by 8\")\n",
    "elif num%4 == 0:                                    #skipped when above if gets true.\n",
    "    print(f\"{num} divisible by 4 but not by 8\")\n",
    "else:\n",
    "    print(f\"{num} is not divisible by 8 or 4\")"
   ]
  },
  {
   "cell_type": "markdown",
   "id": "874569c4",
   "metadata": {},
   "source": [
    "program to check its leap year or not."
   ]
  },
  {
   "cell_type": "code",
   "execution_count": null,
   "id": "7f184b1f",
   "metadata": {},
   "outputs": [
    {
     "name": "stdout",
     "output_type": "stream",
     "text": [
      "1600 is a leap year\n",
      "1900 is not a leap year\n",
      "2000 is a leap year\n",
      "2100 is not a leap year\n",
      "2020 is a leap year\n",
      "2024 is a leap year\n",
      "2025 is not a leap year\n"
     ]
    }
   ],
   "source": [
    "years = [1600,1900,2000,2100,2020,2024,2025]      #1900 divisible by 4 but also not leap year, not divisible by 100 also checked to get leap year.\n",
    "for year in years:\n",
    "    if year%4 == 0 and (year%100 !=0 or year%400 == 0):\n",
    "        print(f\"{year} is a leap year\")\n",
    "    else: \n",
    "        print(f\"{year} is not a leap year\")"
   ]
  },
  {
   "cell_type": "markdown",
   "id": "ba68e4fc",
   "metadata": {},
   "source": [
    "Find the given number is odd or even."
   ]
  },
  {
   "cell_type": "code",
   "execution_count": 21,
   "id": "e5751ee0",
   "metadata": {},
   "outputs": [
    {
     "name": "stdout",
     "output_type": "stream",
     "text": [
      "33 is a odd number\n",
      "28 is a even number\n"
     ]
    }
   ],
   "source": [
    "num1 = 33\n",
    "num2 = 28\n",
    "if num1%2 == 0:\n",
    "    print(\"{} is a even number\".format(num1))\n",
    "elif num1%3 == 0:\n",
    "      print(\"{} is a odd number\".format(num1))\n",
    "else:\n",
    "     print(\"Enter valid number\")\n",
    "\n",
    "if num2%2 == 0:\n",
    "    print(\"{} is a even number\".format(num2))\n",
    "elif num2%3 == 0:\n",
    "      print(\"{} is a odd number\".format(num2))\n",
    "else:\n",
    "     print(\"Enter valid number\")\n"
   ]
  },
  {
   "cell_type": "markdown",
   "id": "72b5a7e4",
   "metadata": {},
   "source": [
    "program to print your name 10 times.\n",
    "Notes For:used while Known number of iterations.\n",
    "          stops when range is reached / end of sequence"
   ]
  },
  {
   "cell_type": "code",
   "execution_count": null,
   "id": "837a73cd",
   "metadata": {},
   "outputs": [
    {
     "name": "stdout",
     "output_type": "stream",
     "text": [
      "Anubama\n",
      "Anubama\n",
      "Anubama\n",
      "Anubama\n",
      "Anubama\n",
      "Anubama\n",
      "Anubama\n",
      "Anubama\n",
      "Anubama\n",
      "Anubama\n",
      "Anubama\n"
     ]
    }
   ],
   "source": [
    "for i in range(11):   # in is a membership operator\n",
    "    print(\"Anubama\")"
   ]
  },
  {
   "cell_type": "markdown",
   "id": "e0c20439",
   "metadata": {},
   "source": [
    "program to print the number from 1 to 10. "
   ]
  },
  {
   "cell_type": "code",
   "execution_count": null,
   "id": "e38049c9",
   "metadata": {},
   "outputs": [
    {
     "name": "stdout",
     "output_type": "stream",
     "text": [
      "1\n",
      "2\n",
      "3\n",
      "4\n",
      "5\n",
      "6\n",
      "7\n",
      "8\n",
      "9\n",
      "10\n"
     ]
    }
   ],
   "source": [
    "for i  in range(1,11):  #range starts with '0' , so give start and ending range)\n",
    "    print(i)"
   ]
  },
  {
   "cell_type": "markdown",
   "id": "c3f15b3a",
   "metadata": {},
   "source": [
    "program to print even numbers from 1 to 20, and odd numbers 1 to 10."
   ]
  },
  {
   "cell_type": "code",
   "execution_count": 46,
   "id": "c7cf465c",
   "metadata": {},
   "outputs": [
    {
     "name": "stdout",
     "output_type": "stream",
     "text": [
      "Even numbers from 1 to 20:\n",
      "2\n",
      "4\n",
      "6\n",
      "8\n",
      "10\n",
      "12\n",
      "14\n",
      "16\n",
      "18\n",
      "20\n",
      "odd numbers from 1 to 10:\n",
      "3\n",
      "6\n",
      "9\n",
      "\n",
      "Another method to find the odd numbers 1 to 10\n",
      "0\n",
      "3\n",
      "6\n",
      "9\n"
     ]
    }
   ],
   "source": [
    "print(\"Even numbers from 1 to 20:\")\n",
    "for i in range(2,21,2):                #start and ending range, step counter)\n",
    "    print(i)\n",
    "print(\"odd numbers from 1 to 10:\")\n",
    "for i in range(3,10,3):\n",
    "    print(i)\n",
    "print(\"\\nAnother method to find the odd numbers 1 to 10\")\n",
    "for i in range(11):\n",
    "    if i%3 == 0:\n",
    "        print(i)"
   ]
  },
  {
   "cell_type": "markdown",
   "id": "0dbdd403",
   "metadata": {},
   "source": [
    "odd or even."
   ]
  },
  {
   "cell_type": "code",
   "execution_count": 27,
   "id": "ed604aa5",
   "metadata": {},
   "outputs": [
    {
     "name": "stdout",
     "output_type": "stream",
     "text": [
      "2 is a even number\n",
      "3 is a odd number\n",
      "4 is a even number\n",
      "6 is a even number\n",
      "\n",
      "\n",
      "1 is a odd number\n",
      "2 is a even number\n",
      "3 is a odd number\n",
      "4 is a even number\n",
      "5 is a odd number\n",
      "6 is a even number\n"
     ]
    }
   ],
   "source": [
    "num = [1,2,3,4,5,6]\n",
    "for n in num:\n",
    "    if n%2 == 0:\n",
    "        print(\"{} is a even number\".format(n))\n",
    "    elif n%3 == 0:              # if we check this condition 1, 5 is not come in odd\n",
    "        print(\"{} is a odd number\".format(n))\n",
    "print(\"\\n\")\n",
    "num = [1,2,3,4,5,6]\n",
    "for n in num:\n",
    "    if n%2 == 0:\n",
    "        print(\"{} is a even number\".format(n))\n",
    "    else:             # if we check this condition 1, 5 is not come in odd\n",
    "        print(\"{} is a odd number\".format(n))    "
   ]
  },
  {
   "cell_type": "markdown",
   "id": "002f498a",
   "metadata": {},
   "source": [
    "program to calculate the EB-Bill.0-250 = 2.5rs, 250-500 = 3.5rs 500 above 4.5rs."
   ]
  },
  {
   "cell_type": "code",
   "execution_count": 35,
   "id": "50271186",
   "metadata": {},
   "outputs": [
    {
     "name": "stdout",
     "output_type": "stream",
     "text": [
      " For 450 units, rate is 3.5rs\n",
      " For 233 units, rate is 2.5rs\n",
      " For 689 units, rate is 4.5rs\n",
      " For -500 units, invalid units\n",
      " Enter valid units.\n"
     ]
    }
   ],
   "source": [
    "#using list and for loop\n",
    "bills = [450, 233, 689, -500, 000]\n",
    "for EB_bill in bills:\n",
    "    if EB_bill < 0:\n",
    "        print(f\" For {EB_bill} units, invalid units\")\n",
    "    elif EB_bill >0 and EB_bill <250:\n",
    "        print(f\" For {EB_bill} units, rate is 2.5rs\")\n",
    "    elif EB_bill >=250  and EB_bill <500:\n",
    "        print(f\" For {EB_bill} units, rate is 3.5rs\")  \n",
    "    elif EB_bill >=500:\n",
    "        print(f\" For {EB_bill} units, rate is 4.5rs\")  \n",
    "    else:\n",
    "        print(\" Enter valid units.\")\n"
   ]
  },
  {
   "cell_type": "markdown",
   "id": "3bd28844",
   "metadata": {},
   "source": [
    "program for greatest of 3 Numbers."
   ]
  },
  {
   "cell_type": "code",
   "execution_count": 4,
   "id": "e2728728",
   "metadata": {},
   "outputs": [
    {
     "name": "stdout",
     "output_type": "stream",
     "text": [
      "Number1 112 and number3 112 is greatest\n"
     ]
    }
   ],
   "source": [
    "num1 = 112\n",
    "num2 = 111\n",
    "num3 = 112\n",
    "if num1>num2 and num1>num3:\n",
    "    print(f\"Number1 {num1} is greatest\")\n",
    "elif num1<num2 and num2>num3:\n",
    "    print(f\"Number2 {num2} is greatest\")\n",
    "elif num1<num3 and num2<num3:\n",
    "    print(f\"Number3 {num3} is greatest\")\n",
    "elif num1==num2 and num1>num3:\n",
    "    print(f\"Number1 {num1} and number2 {num2} is greatest\")\n",
    "elif num2==num3 and num1<num3:\n",
    "    print(f\"Number2 {num2} and number3 {num3} is greatest\")\n",
    "elif num1==num3 and num1>num2:\n",
    "    print(f\"Number1 {num1} and number3 {num3} is greatest\")\n",
    "else:\n",
    "    print(\"All are equal\")"
   ]
  },
  {
   "cell_type": "markdown",
   "id": "02ecdad5",
   "metadata": {},
   "source": [
    "Find the given character is vowel or not."
   ]
  },
  {
   "cell_type": "code",
   "execution_count": 1,
   "id": "22f90ceb",
   "metadata": {},
   "outputs": [
    {
     "name": "stdout",
     "output_type": "stream",
     "text": [
      "character Q is a consonent\n",
      "character I is a vowel\n"
     ]
    }
   ],
   "source": [
    "char = \"Q\"\n",
    "if char.lower() in (\"a\",\"e\",\"i\",\"o\",\"u\"):\n",
    "    print(f\"character {char} is a vowel\")\n",
    "else:\n",
    "    print(f\"character {char} is a consonent\")\n",
    "\n",
    "char = \"I\"\n",
    "ch = char.lower()\n",
    "if ch == \"a\" or \"e\" or \"i\" or \"o\" or\"u\":\n",
    "    print(f\"character {char} is a vowel\")\n",
    "else:\n",
    "    print(f\"character {char} is a consonent\")\n",
    "\n"
   ]
  },
  {
   "cell_type": "markdown",
   "id": "beed1ee6",
   "metadata": {},
   "source": [
    "program Grade Statement.\n",
    "80 - 100 -->Excellent \n",
    "60 - 80  -->Good\n",
    "40 - 60  -->Fair\n",
    "0  - 40  -->poor"
   ]
  },
  {
   "cell_type": "code",
   "execution_count": 3,
   "id": "9a96faa6",
   "metadata": {},
   "outputs": [
    {
     "name": "stdout",
     "output_type": "stream",
     "text": [
      "you scored 54, Fair\n",
      "you scored 89, Excellent\n",
      "you scored 32, poor\n",
      "you scored 76, Good\n"
     ]
    }
   ],
   "source": [
    "mark1 = 54\n",
    "mark2 = 89\n",
    "mark3 = 32\n",
    "mark4 = 76\n",
    "if mark1 <= 100 and mark1 >80:\n",
    "    print(f\"you scored {mark1}, Excellent\")\n",
    "elif mark1 <= 80 and mark1 >60:\n",
    "    print(f\"you scored {mark1}, Good\")\n",
    "elif mark1 <=60 and mark1 >40:\n",
    "    print(f\"you scored {mark1}, Fair\")\n",
    "elif mark1 <= 40 and mark1 >0:\n",
    "    print(f\"you scored {mark1}, poor\")\n",
    "else: \n",
    "    print(\"total mark is 100, its above 100, invalid mark\")\n",
    "\n",
    "if mark2 <= 100 and mark2 >80:\n",
    "    print(f\"you scored {mark2}, Excellent\")\n",
    "elif mark2 <= 80 and mark2 >60:\n",
    "    print(f\"you scored {mark2}, Good\")\n",
    "elif mark2 <=60 and mark2 >40:\n",
    "    print(f\"you scored {mark2}, Fair\")\n",
    "elif mark2 <= 40 and mark2 >0:\n",
    "    print(f\"you scored {mark2}, poor\")\n",
    "else: \n",
    "    print(\"total mark is 100, its above 100, invalid mark\")\n",
    "\n",
    "if mark3 <= 100 and mark3 >80:\n",
    "    print(f\"you scored {mark3}, Excellent\")\n",
    "elif mark3 <= 80 and mark3 >60:\n",
    "    print(f\"you scored {mark3}, Good\")\n",
    "elif mark3 <=60 and mark3 >40:\n",
    "    print(f\"you scored {mark3}, Fair\")\n",
    "elif mark3 <= 40 and mark3 >0:\n",
    "    print(f\"you scored {mark3}, poor\")\n",
    "else: \n",
    "    print(\"total mark is 100, its above 100, invalid mark\")\n",
    "\n",
    "if mark4 <= 100 and mark4 >80:\n",
    "    print(f\"you scored {mark4}, Excellent\")\n",
    "elif mark4 <= 80 and mark4 >60:\n",
    "    print(f\"you scored {mark4}, Good\")\n",
    "elif mark4 <=60 and mark4 >40:\n",
    "    print(f\"you scored {mark4}, Fair\")\n",
    "elif mark4 <= 40 and mark4 >0:\n",
    "    print(f\"you scored {mark4}, poor\")\n",
    "else: \n",
    "    print(\"total mark is 100, its above 100, invalid mark\")"
   ]
  },
  {
   "cell_type": "markdown",
   "id": "58eb5d9b",
   "metadata": {},
   "source": [
    "program Grade Statement(using for loop).\n",
    "80 - 100 -->Excellent \n",
    "60 - 80  -->Good\n",
    "40 - 60  -->Fair\n",
    "0  - 40  -->poor"
   ]
  },
  {
   "cell_type": "code",
   "execution_count": 7,
   "id": "b824a3ab",
   "metadata": {},
   "outputs": [
    {
     "name": "stdout",
     "output_type": "stream",
     "text": [
      "you scored 54, Fair\n",
      "you scored 89, Excellent\n",
      "you scored 32, poor\n",
      "you scored 76, Good\n",
      "total mark is 100, its above 100 or negative mark,  invalid mark\n",
      "total mark is 100, its above 100 or negative mark,  invalid mark\n"
     ]
    }
   ],
   "source": [
    "marks = [54,89,32,76,120,-47]\n",
    "for mark in marks:\n",
    "    if mark <= 100 and mark >80:\n",
    "        print(f\"you scored {mark}, Excellent\")\n",
    "    elif mark <= 80 and mark >60:\n",
    "        print(f\"you scored {mark}, Good\")\n",
    "    elif mark <=60 and mark >40:\n",
    "        print(f\"you scored {mark}, Fair\")\n",
    "    elif mark <= 40 and mark >0:\n",
    "        print(f\"you scored {mark}, poor\")\n",
    "    else: \n",
    "        print(\"total mark is 100, its above 100 or negative mark,  invalid mark\")"
   ]
  },
  {
   "cell_type": "markdown",
   "id": "d20861fc",
   "metadata": {},
   "source": [
    "program to check the case of alphabetic."
   ]
  },
  {
   "cell_type": "code",
   "execution_count": 17,
   "id": "137efa4d",
   "metadata": {},
   "outputs": [
    {
     "name": "stdout",
     "output_type": "stream",
     "text": [
      "the, its word please enter only single character\n",
      "a,is a lower case\n",
      "3,is not an alphabet\n",
      "I,is a upper case\n"
     ]
    }
   ],
   "source": [
    "char = [\"the\", \"a\", \"3\", \"I\"]\n",
    "for ch in char:\n",
    "    if len(ch)!=1:\n",
    "        print(f\"{ch}, its word please enter only single character\")\n",
    "    elif not ch.isalpha():\n",
    "        print(f\"{ch},is not an alphabet\")\n",
    "    elif ch.islower():\n",
    "        print(f\"{ch},is a lower case\")\n",
    "    else:\n",
    "        print(f\"{ch},is a upper case\")\n"
   ]
  },
  {
   "cell_type": "markdown",
   "id": "789609cd",
   "metadata": {},
   "source": [
    "program to print even numbers from 1 to 10 using while loop.\n",
    "Notes For:used while unKnown number of iterations.\n",
    "          stops when condition becomes false."
   ]
  },
  {
   "cell_type": "code",
   "execution_count": 49,
   "id": "2a4db8d2",
   "metadata": {},
   "outputs": [
    {
     "name": "stdout",
     "output_type": "stream",
     "text": [
      "Even numbers from 1 to 10:\n",
      "2\n",
      "4\n",
      "6\n",
      "8\n",
      "10\n"
     ]
    }
   ],
   "source": [
    "i = 2\n",
    "print(\"Even numbers from 1 to 10:\")\n",
    "while i<11:\n",
    "    print(i)\n",
    "    i+=2"
   ]
  },
  {
   "cell_type": "markdown",
   "id": "8673396c",
   "metadata": {},
   "source": [
    "Bubble sorting using for loop."
   ]
  },
  {
   "cell_type": "code",
   "execution_count": 52,
   "id": "39fa3e17",
   "metadata": {},
   "outputs": [
    {
     "name": "stdout",
     "output_type": "stream",
     "text": [
      "sorted arrary numbers [1, 2, 4, 5, 8]\n"
     ]
    }
   ],
   "source": [
    "numbers = [5,1,4,2,8]\n",
    "n = len(numbers)\n",
    "for i in range(n):\n",
    "    for j in range(0,n-i-1):\n",
    "        if numbers[j]>numbers[j+1]:\n",
    "            numbers[j], numbers[j+1] = numbers[j+1], numbers[j]\n",
    "print(\"sorted arrary numbers\", numbers)"
   ]
  },
  {
   "cell_type": "markdown",
   "id": "9d7463ca",
   "metadata": {},
   "source": [
    "countdown timer program using while loop."
   ]
  },
  {
   "cell_type": "code",
   "execution_count": null,
   "id": "a3f1600a",
   "metadata": {},
   "outputs": [
    {
     "name": "stdout",
     "output_type": "stream",
     "text": [
      "5\n",
      "4\n",
      "3\n",
      "2\n",
      "1\n",
      "🚀 Lift off!\n"
     ]
    }
   ],
   "source": [
    "count = 5\n",
    "while count > 0:\n",
    "    print(count)\n",
    "    count -= 1\n",
    "print(\"🚀 Lift off!\")\n"
   ]
  },
  {
   "cell_type": "markdown",
   "id": "50a55b9e",
   "metadata": {},
   "source": []
  }
 ],
 "metadata": {
  "kernelspec": {
   "display_name": ".venv",
   "language": "python",
   "name": "python3"
  },
  "language_info": {
   "codemirror_mode": {
    "name": "ipython",
    "version": 3
   },
   "file_extension": ".py",
   "mimetype": "text/x-python",
   "name": "python",
   "nbconvert_exporter": "python",
   "pygments_lexer": "ipython3",
   "version": "3.13.5"
  }
 },
 "nbformat": 4,
 "nbformat_minor": 5
}
